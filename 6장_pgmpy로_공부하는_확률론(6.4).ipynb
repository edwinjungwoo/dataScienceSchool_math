{
 "cells": [
  {
   "cell_type": "markdown",
   "id": "9492635e",
   "metadata": {},
   "source": [
    "# 확률분포함수"
   ]
  },
  {
   "cell_type": "code",
   "execution_count": 1,
   "id": "ac0dfdbd",
   "metadata": {},
   "outputs": [],
   "source": [
    "import numpy as np\n",
    "import matplotlib.pyplot as plt"
   ]
  },
  {
   "cell_type": "code",
   "execution_count": 2,
   "id": "1ba38189",
   "metadata": {},
   "outputs": [
    {
     "data": {
      "image/png": "[encoded data removed]",
      "text/plain": [
       "<Figure size 432x288 with 1 Axes>"
      ]
     },
     "metadata": {
      "needs_background": "light"
     },
     "output_type": "display_data"
    }
   ],
   "source": [
    "x = np.arange(1, 7)\n",
    "y = np.array([0.1, 0.1, 0.1, 0.1, 0.1, 0.5])\n",
    "plt.stem(x, y)\n",
    "plt.title(\"probability mass function of unfair dice\")\n",
    "plt.xlabel(\"numbers\")\n",
    "plt.ylabel(\"probability\")\n",
    "plt.xlim(0, 7)\n",
    "plt.ylim(-0.01, 0.6)\n",
    "plt.xticks(np.arange(6) + 1)\n",
    "plt.show()"
   ]
  },
  {
   "cell_type": "code",
   "execution_count": 3,
   "id": "e2d75e55",
   "metadata": {},
   "outputs": [
    {
     "data": {
      "text/plain": [
       "0.2"
      ]
     },
     "execution_count": 3,
     "metadata": {},
     "output_type": "execute_result"
    }
   ],
   "source": [
    "y[0] + y[1]"
   ]
  },
  {
   "cell_type": "code",
   "execution_count": 4,
   "id": "f3d23dd6",
   "metadata": {},
   "outputs": [
    {
     "data": {
      "text/plain": [
       "0.7"
      ]
     },
     "execution_count": 4,
     "metadata": {},
     "output_type": "execute_result"
    }
   ],
   "source": [
    "y[3] + y[4] + y[5]"
   ]
  },
  {
   "cell_type": "code",
   "execution_count": 5,
   "id": "74caa3db",
   "metadata": {},
   "outputs": [
    {
     "data": {
      "text/plain": [
       "0.8333333333333333"
      ]
     },
     "execution_count": 5,
     "metadata": {},
     "output_type": "execute_result"
    }
   ],
   "source": [
    "def P(a, b):\n",
    "    if a> b:\n",
    "        raise ValueError('a must be less than b or equal to b')\n",
    "    a = np.maximum(a, 0)\n",
    "    b = np.minimum(b, 360)\n",
    "    \n",
    "    if b < 180:\n",
    "        return (2/3) * ((b-a) / 180)\n",
    "    else:\n",
    "        if a < 180:\n",
    "            return (2/3) * ((180-a) / 180) + (1/3) * ((b-180) / 180)\n",
    "        return (1/3) * (((b-a) / 180))\n",
    "\n",
    "P(0, 270)"
   ]
  },
  {
   "cell_type": "code",
   "execution_count": 6,
   "id": "8417708d",
   "metadata": {},
   "outputs": [
    {
     "data": {
      "text/plain": [
       "0.6666666666666666"
      ]
     },
     "execution_count": 6,
     "metadata": {},
     "output_type": "execute_result"
    }
   ],
   "source": [
    "P(0,180)"
   ]
  },
  {
   "cell_type": "code",
   "execution_count": 7,
   "id": "0ab471e5",
   "metadata": {},
   "outputs": [
    {
     "data": {
      "text/plain": [
       "0.3333333333333333"
      ]
     },
     "execution_count": 7,
     "metadata": {},
     "output_type": "execute_result"
    }
   ],
   "source": [
    "P(0,90)"
   ]
  },
  {
   "cell_type": "code",
   "execution_count": 9,
   "id": "6c5a3708",
   "metadata": {},
   "outputs": [
    {
     "data": {
      "text/plain": [
       "0.9814814814814814"
      ]
     },
     "execution_count": 9,
     "metadata": {},
     "output_type": "execute_result"
    }
   ],
   "source": [
    "P(0,350)"
   ]
  },
  {
   "cell_type": "code",
   "execution_count": 12,
   "id": "966f0f2f",
   "metadata": {},
   "outputs": [
    {
     "name": "stderr",
     "output_type": "stream",
     "text": [
      "Font 'default' does not have a glyph for '\\ub3c4' [U+b3c4], substituting with a dummy symbol.\n",
      "Font 'default' does not have a glyph for '\\ub3c4' [U+b3c4], substituting with a dummy symbol.\n"
     ]
    },
    {
     "data": {
      "image/png": "[encoded data removed]",
      "text/plain": [
       "<Figure size 432x288 with 1 Axes>"
      ]
     },
     "metadata": {
      "needs_background": "light"
     },
     "output_type": "display_data"
    }
   ],
   "source": [
    "t = np.linspace(-100, 500, 100)\n",
    "F = t / 360\n",
    "F[t < 0] = 0\n",
    "F[t > 360] = 1\n",
    "plt.plot(t, F)\n",
    "plt.ylim(-0.1, 1.1)\n",
    "plt.xticks([0, 180, 360])\n",
    "plt.title(\"cumulative distribution function\")\n",
    "plt.xlabel(\"$x$ (도)\")\n",
    "plt.ylabel(\"$F(x)$\")\n",
    "plt.show()"
   ]
  },
  {
   "cell_type": "code",
   "execution_count": 17,
   "id": "9144eb46",
   "metadata": {},
   "outputs": [],
   "source": [
    "def F(a):\n",
    "    if a < 0:\n",
    "        return 0\n",
    "    if a > 360:\n",
    "        return 1\n",
    "    elif a < 180:\n",
    "        return (a/180) * (2/3)\n",
    "    elif a >= 180:\n",
    "        return (2/3) + (1/3) * ((a-180)/180)"
   ]
  },
  {
   "cell_type": "code",
   "execution_count": 18,
   "id": "c8bf2b7c",
   "metadata": {},
   "outputs": [
    {
     "data": {
      "text/plain": [
       "0.8333333333333333"
      ]
     },
     "execution_count": 18,
     "metadata": {},
     "output_type": "execute_result"
    }
   ],
   "source": [
    "F(270)"
   ]
  },
  {
   "cell_type": "code",
   "execution_count": 19,
   "id": "998e95fc",
   "metadata": {},
   "outputs": [
    {
     "data": {
      "text/plain": [
       "0.3333333333333333"
      ]
     },
     "execution_count": 19,
     "metadata": {},
     "output_type": "execute_result"
    }
   ],
   "source": [
    "F(90)"
   ]
  },
  {
   "cell_type": "code",
   "execution_count": 20,
   "id": "fc36bf95",
   "metadata": {},
   "outputs": [
    {
     "data": {
      "text/plain": [
       "0.9814814814814814"
      ]
     },
     "execution_count": 20,
     "metadata": {},
     "output_type": "execute_result"
    }
   ],
   "source": [
    "F(350)"
   ]
  },
  {
   "cell_type": "markdown",
   "id": "ea0c13aa",
   "metadata": {},
   "source": [
    "**누적분포함수를 미분하여 구한 도함수가 확률밀도함수(probability density function)**"
   ]
  },
  {
   "cell_type": "code",
   "execution_count": 21,
   "id": "b25792b3",
   "metadata": {},
   "outputs": [
    {
     "name": "stderr",
     "output_type": "stream",
     "text": [
      "Font 'default' does not have a glyph for '\\ub3c4' [U+b3c4], substituting with a dummy symbol.\n",
      "Font 'default' does not have a glyph for '\\ub3c4' [U+b3c4], substituting with a dummy symbol.\n"
     ]
    },
    {
     "data": {
      "image/png": "[encoded data removed]",
      "text/plain": [
       "<Figure size 432x288 with 1 Axes>"
      ]
     },
     "metadata": {
      "needs_background": "light"
     },
     "output_type": "display_data"
    }
   ],
   "source": [
    "t = np.linspace(-100, 500, 1000)\n",
    "F = t / 360\n",
    "F[t < 0] = 0\n",
    "F[t > 360] = 1\n",
    "p = np.gradient(F, 600/1000)  # 수치미분\n",
    "plt.plot(t, p)\n",
    "plt.ylim(-0.0001, p.max()*1.1)\n",
    "plt.xticks([0, 180, 360])\n",
    "plt.title(\"probability density function\")\n",
    "plt.xlabel(\"$x$ (도)\")\n",
    "plt.ylabel(\"$p(x)$\")\n",
    "plt.show()"
   ]
  },
  {
   "cell_type": "code",
   "execution_count": 22,
   "id": "9ed7641c",
   "metadata": {},
   "outputs": [],
   "source": [
    "def p(a):\n",
    "    if a <0 or a >360:\n",
    "        return 0\n",
    "    elif a < 180:\n",
    "        return 2/3/180\n",
    "    elif a >= 180:\n",
    "        return 1/3/180"
   ]
  },
  {
   "cell_type": "code",
   "execution_count": null,
   "id": "3ec5dabd",
   "metadata": {},
   "outputs": [],
   "source": []
  }
 ],
 "metadata": {
  "kernelspec": {
   "display_name": "Python 3 (ipykernel)",
   "language": "python",
   "name": "python3"
  },
  "language_info": {
   "codemirror_mode": {
    "name": "ipython",
    "version": 3
   },
   "file_extension": ".py",
   "mimetype": "text/x-python",
   "name": "python",
   "nbconvert_exporter": "python",
   "pygments_lexer": "ipython3",
   "version": "3.10.2"
  }
 },
 "nbformat": 4,
 "nbformat_minor": 5
}
