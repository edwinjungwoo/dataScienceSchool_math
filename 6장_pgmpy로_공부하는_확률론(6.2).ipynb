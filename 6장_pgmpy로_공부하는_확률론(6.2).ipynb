{
 "cells": [
  {
   "cell_type": "markdown",
   "id": "af07f827",
   "metadata": {},
   "source": [
    "# 확률의 수학적 정의와 의미"
   ]
  },
  {
   "cell_type": "code",
   "execution_count": 2,
   "id": "254ff657",
   "metadata": {},
   "outputs": [],
   "source": [
    "# 6.2.1\n",
    "omega3 = {'HH', 'HT', 'TH', 'TT'}\n",
    "omega4 = {True, False}"
   ]
  },
  {
   "cell_type": "code",
   "execution_count": 4,
   "id": "47e69133",
   "metadata": {},
   "outputs": [],
   "source": [
    "# 6.2.2\n",
    "# omega7 = {0 <= x <= 360}"
   ]
  },
  {
   "cell_type": "code",
   "execution_count": 13,
   "id": "b4bf05a3",
   "metadata": {},
   "outputs": [],
   "source": [
    "# 6.2.4\n",
    "from itertools import chain, combinations\n",
    "\n",
    "def get_set_of_subsets(omega):\n",
    "    return set([frozenset(s) for s in chain.from_iterable(combinations(omega, r) for r in range(len(omega) + 1))])"
   ]
  },
  {
   "cell_type": "code",
   "execution_count": 14,
   "id": "94dc9724",
   "metadata": {},
   "outputs": [
    {
     "data": {
      "text/plain": [
       "{frozenset(),\n",
       " frozenset({'♣'}),\n",
       " frozenset({'♢', '♣'}),\n",
       " frozenset({'♡'}),\n",
       " frozenset({'♡', '♢', '♣'}),\n",
       " frozenset({'♠'}),\n",
       " frozenset({'♢'}),\n",
       " frozenset({'♠', '♢'}),\n",
       " frozenset({'♠', '♢', '♣'}),\n",
       " frozenset({'♠', '♡'}),\n",
       " frozenset({'♠', '♡', '♢'}),\n",
       " frozenset({'♡', '♣'}),\n",
       " frozenset({'♠', '♣'}),\n",
       " frozenset({'♠', '♡', '♣'}),\n",
       " frozenset({'♡', '♢'}),\n",
       " frozenset({'♠', '♡', '♢', '♣'})}"
      ]
     },
     "execution_count": 14,
     "metadata": {},
     "output_type": "execute_result"
    }
   ],
   "source": [
    "omega = {\"\\u2660\", \"\\u2661\", \"\\u2662\", \"\\u2663\"}\n",
    "SS1 = get_set_of_subsets(omega)\n",
    "SS1"
   ]
  },
  {
   "cell_type": "code",
   "execution_count": 16,
   "id": "0e74d3e6",
   "metadata": {},
   "outputs": [
    {
     "data": {
      "text/plain": [
       "{frozenset(), frozenset({'H'}), frozenset({'T'}), frozenset({'H', 'T'})}"
      ]
     },
     "execution_count": 16,
     "metadata": {},
     "output_type": "execute_result"
    }
   ],
   "source": [
    "A = frozenset([])\n",
    "B = frozenset(['H'])\n",
    "C = frozenset(['T'])\n",
    "D = frozenset(['H', 'T'])\n",
    "set([A, B, C, D])"
   ]
  },
  {
   "cell_type": "code",
   "execution_count": 17,
   "id": "c5d1357d",
   "metadata": {},
   "outputs": [
    {
     "data": {
      "text/plain": [
       "{frozenset(): 0,\n",
       " frozenset({'H'}): 0.4,\n",
       " frozenset({'T'}): 0.6,\n",
       " frozenset({'H', 'T'}): 1}"
      ]
     },
     "execution_count": 17,
     "metadata": {},
     "output_type": "execute_result"
    }
   ],
   "source": [
    "P = {A: 0, B: 0.4, C: 0.6, D: 1}\n",
    "P"
   ]
  },
  {
   "cell_type": "code",
   "execution_count": 19,
   "id": "a2eec183",
   "metadata": {},
   "outputs": [
    {
     "data": {
      "text/plain": [
       "{frozenset({1, 3, 5}): 0.76,\n",
       " frozenset({1, 4}): 0.63,\n",
       " frozenset({4, 6}): 0.13,\n",
       " frozenset({2, 3}): 0.22999999999999998,\n",
       " frozenset({2, 3, 4}): 0.36,\n",
       " frozenset({1, 4, 5, 6}): 0.77,\n",
       " frozenset({2, 6}): 0.11,\n",
       " frozenset({4, 5}): 0.27,\n",
       " frozenset({2, 3, 5, 6}): 0.37,\n",
       " frozenset({1, 2, 3, 6}): 0.73,\n",
       " frozenset({1}): 0.5,\n",
       " frozenset({1, 2, 3, 4, 5, 6}): 1.0,\n",
       " frozenset({2, 4, 5, 6}): 0.38,\n",
       " frozenset({4, 5, 6}): 0.27,\n",
       " frozenset({1, 3, 4, 6}): 0.75,\n",
       " frozenset({2, 3, 4, 6}): 0.36,\n",
       " frozenset({1, 2, 3, 4, 6}): 0.86,\n",
       " frozenset({1, 3, 4, 5, 6}): 0.89,\n",
       " frozenset({1, 4, 6}): 0.63,\n",
       " frozenset({3, 4}): 0.25,\n",
       " frozenset({2, 4, 6}): 0.24,\n",
       " frozenset({3, 4, 5, 6}): 0.39,\n",
       " frozenset({1, 2, 3, 4, 5}): 1.0,\n",
       " frozenset({2, 4}): 0.24,\n",
       " frozenset({5, 6}): 0.14,\n",
       " frozenset({2, 3, 5}): 0.37,\n",
       " frozenset({3, 4, 6}): 0.25,\n",
       " frozenset({3, 5}): 0.26,\n",
       " frozenset({2, 5, 6}): 0.25,\n",
       " frozenset({3, 4, 5}): 0.39,\n",
       " frozenset({1, 6}): 0.5,\n",
       " frozenset({1, 2, 3}): 0.73,\n",
       " frozenset({1, 2, 4, 6}): 0.74,\n",
       " frozenset({1, 3}): 0.62,\n",
       " frozenset({1, 2, 6}): 0.61,\n",
       " frozenset({1, 3, 4}): 0.75,\n",
       " frozenset({1, 2, 4, 5}): 0.88,\n",
       " frozenset({1, 3, 5, 6}): 0.76,\n",
       " frozenset({1, 2, 3, 5, 6}): 0.87,\n",
       " frozenset({3, 6}): 0.12,\n",
       " frozenset({2, 3, 6}): 0.22999999999999998,\n",
       " frozenset({2, 3, 4, 5}): 0.5,\n",
       " frozenset({1, 2, 5}): 0.75,\n",
       " frozenset({1, 5}): 0.64,\n",
       " frozenset({1, 4, 5}): 0.77,\n",
       " frozenset({1, 2, 3, 4}): 0.86,\n",
       " frozenset({2, 3, 4, 5, 6}): 0.5,\n",
       " frozenset({5}): 0.14,\n",
       " frozenset({4}): 0.13,\n",
       " frozenset({2}): 0.11,\n",
       " frozenset({1, 2, 4, 5, 6}): 0.88,\n",
       " frozenset({1, 2, 4}): 0.74,\n",
       " frozenset({1, 2}): 0.61,\n",
       " frozenset({1, 3, 6}): 0.62,\n",
       " frozenset({1, 2, 5, 6}): 0.75,\n",
       " frozenset({1, 2, 3, 5}): 0.87,\n",
       " frozenset({1, 3, 4, 5}): 0.89,\n",
       " frozenset({2, 4, 5}): 0.38,\n",
       " frozenset({2, 5}): 0.25,\n",
       " frozenset({3, 5, 6}): 0.26,\n",
       " frozenset({3}): 0.12,\n",
       " frozenset({6}): 0.0,\n",
       " frozenset(): 0.0,\n",
       " frozenset({1, 5, 6}): 0.64}"
      ]
     },
     "execution_count": 19,
     "metadata": {},
     "output_type": "execute_result"
    }
   ],
   "source": [
    "omega = {1,2,3,4,5,6}\n",
    "SS3 = get_set_of_subsets(omega)\n",
    "\n",
    "P3 = {}\n",
    "\n",
    "for i in SS3:\n",
    "    probability = 0.0\n",
    "    if 1 in i:\n",
    "        probability += 0.5\n",
    "    if 2 in i:\n",
    "        probability += 0.11\n",
    "    if 3 in i:\n",
    "        probability += 0.12\n",
    "    if 4 in i:\n",
    "        probability += 0.13\n",
    "    if 5 in i:\n",
    "        probability += 0.14\n",
    "    if 6 in i:\n",
    "        probability += 0\n",
    "        \n",
    "    P3[i] = probability\n",
    "    \n",
    "P3\n",
    "    "
   ]
  },
  {
   "cell_type": "code",
   "execution_count": 20,
   "id": "e5f26bd1",
   "metadata": {},
   "outputs": [
    {
     "data": {
      "text/plain": [
       "{'True': 0.019178082191780823, 'False': 0.9808219178082191}"
      ]
     },
     "execution_count": 20,
     "metadata": {},
     "output_type": "execute_result"
    }
   ],
   "source": [
    "# 6.2.7\n",
    "P4 = {'True': 7 / 365, 'False': 358 / 365}\n",
    "P4"
   ]
  },
  {
   "cell_type": "code",
   "execution_count": null,
   "id": "0c36040b",
   "metadata": {},
   "outputs": [],
   "source": []
  }
 ],
 "metadata": {
  "kernelspec": {
   "display_name": "Python 3 (ipykernel)",
   "language": "python",
   "name": "python3"
  },
  "language_info": {
   "codemirror_mode": {
    "name": "ipython",
    "version": 3
   },
   "file_extension": ".py",
   "mimetype": "text/x-python",
   "name": "python",
   "nbconvert_exporter": "python",
   "pygments_lexer": "ipython3",
   "version": "3.10.2"
  }
 },
 "nbformat": 4,
 "nbformat_minor": 5
}
