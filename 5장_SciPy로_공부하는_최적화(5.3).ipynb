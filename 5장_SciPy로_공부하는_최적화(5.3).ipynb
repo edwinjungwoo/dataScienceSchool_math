{
 "cells": [
  {
   "cell_type": "markdown",
   "id": "3dda03ec",
   "metadata": {},
   "source": [
    "# 선형계획법 문제와 이차계획법 문제"
   ]
  },
  {
   "cell_type": "code",
   "execution_count": 1,
   "id": "43b3e81e",
   "metadata": {},
   "outputs": [],
   "source": [
    "import numpy as np\n",
    "import scipy as sp"
   ]
  },
  {
   "cell_type": "code",
   "execution_count": 2,
   "id": "5fb40e38",
   "metadata": {},
   "outputs": [],
   "source": [
    "from scipy import optimize"
   ]
  },
  {
   "cell_type": "code",
   "execution_count": 4,
   "id": "7d74afbd",
   "metadata": {},
   "outputs": [
    {
     "data": {
      "text/plain": [
       "     con: array([], dtype=float64)\n",
       "     fun: -1399.999994807381\n",
       " message: 'Optimization terminated successfully.'\n",
       "     nit: 6\n",
       "   slack: array([1.99999991e+02, 4.19920389e-06, 3.31138381e-07, 8.10000001e+03])\n",
       "  status: 0\n",
       " success: True\n",
       "       x: array([299.99999127, 100.0000042 ])"
      ]
     },
     "execution_count": 4,
     "metadata": {},
     "output_type": "execute_result"
    }
   ],
   "source": [
    "A = np.array([[-1, 0], [0, -1], [1, 2], [4, 5]])\n",
    "b = np.array([-100, -100, 500, 9800])\n",
    "c = np.array([-3, -5])\n",
    "\n",
    "result = sp.optimize.linprog(c, A, b)\n",
    "result\n",
    "# 제품 A를 300개, 제품 B를 100개 생산할 때 이익이 1400으로 최대가 됨"
   ]
  },
  {
   "cell_type": "code",
   "execution_count": 10,
   "id": "e2f32d23",
   "metadata": {},
   "outputs": [
    {
     "name": "stdout",
     "output_type": "stream",
     "text": [
      "상태: optimal\n",
      "최적값: 299.99999911572195 100.00000058337798\n"
     ]
    }
   ],
   "source": [
    "import cvxpy as cp\n",
    "\n",
    "a = cp.Variable()\n",
    "b = cp.Variable()\n",
    "\n",
    "constraints = [\n",
    "    a >= 100,\n",
    "    b >= 100,\n",
    "    a + 2*b <= 500,\n",
    "    4*a + 5*b <= 9800\n",
    "]\n",
    "\n",
    "obj = cp.Maximize(3*a + 5*b)\n",
    "prob = cp.Problem(obj, constraints)\n",
    "\n",
    "prob.solve()\n",
    "\n",
    "print(\"상태:\", prob.status)\n",
    "print(\"최적값:\", a.value, b.value)"
   ]
  },
  {
   "cell_type": "code",
   "execution_count": 12,
   "id": "cb8067ee",
   "metadata": {},
   "outputs": [
    {
     "name": "stdout",
     "output_type": "stream",
     "text": [
      "Collecting cvxopt\n",
      "  Downloading cvxopt-1.3.0-cp310-cp310-win_amd64.whl (12.7 MB)\n",
      "     ---------------------------------------- 12.7/12.7 MB 9.8 MB/s eta 0:00:00\n",
      "Installing collected packages: cvxopt\n",
      "Successfully installed cvxopt-1.3.0\n",
      "Note: you may need to restart the kernel to use updated packages.\n"
     ]
    }
   ],
   "source": [
    "pip install cvxopt"
   ]
  },
  {
   "cell_type": "code",
   "execution_count": 13,
   "id": "3e03b690",
   "metadata": {},
   "outputs": [
    {
     "data": {
      "text/plain": [
       "array([[0.5],\n",
       "       [0.5]])"
      ]
     },
     "execution_count": 13,
     "metadata": {},
     "output_type": "execute_result"
    }
   ],
   "source": [
    "from cvxopt import matrix, solvers\n",
    "\n",
    "Q = matrix(np.diag([2.0, 2.0]))\n",
    "c = matrix(np.array([0.0, 0.0]))\n",
    "A = matrix(np.array([[1.0, 1.0]]))\n",
    "b = matrix(np.array([[1.0]]))\n",
    "\n",
    "sol = solvers.qp(Q, c, A=A, b=b)\n",
    "np.array(sol['x'])"
   ]
  },
  {
   "cell_type": "code",
   "execution_count": null,
   "id": "0230d514",
   "metadata": {},
   "outputs": [],
   "source": []
  }
 ],
 "metadata": {
  "kernelspec": {
   "display_name": "Python 3 (ipykernel)",
   "language": "python",
   "name": "python3"
  },
  "language_info": {
   "codemirror_mode": {
    "name": "ipython",
    "version": 3
   },
   "file_extension": ".py",
   "mimetype": "text/x-python",
   "name": "python",
   "nbconvert_exporter": "python",
   "pygments_lexer": "ipython3",
   "version": "3.10.2"
  }
 },
 "nbformat": 4,
 "nbformat_minor": 5
}
