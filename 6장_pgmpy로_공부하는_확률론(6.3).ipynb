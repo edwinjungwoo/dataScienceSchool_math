{
 "cells": [
  {
   "cell_type": "markdown",
   "id": "ff512a0f",
   "metadata": {},
   "source": [
    "# 확률의 성질"
   ]
  },
  {
   "cell_type": "markdown",
   "id": "f871cd9b",
   "metadata": {},
   "source": [
    "* 공집합의 확률\n",
    "\n",
    "P(∅)=0(6.3.18)\n",
    "\n",
    "* 여집합의 확률\n",
    "\n",
    "P(AC)=1−P(A)(6.3.19)\n",
    "0≤P(A)≤1(6.3.20)\n",
    "\n",
    "* 포함-배제 원리\n",
    "\n",
    "P(A∪B)=P(A)+P(B)−P(A∩B)(6.3.21)\n",
    "\n",
    "* 전체 확률의 법칙\n",
    "\n",
    "Ci∩Cj=∅(i≠j)(6.3.22)\n",
    "C1∪C2∪⋯=Ω(6.3.23)\n",
    "P(A)=∑iP(A,Ci)(6.3.24)"
   ]
  },
  {
   "cell_type": "code",
   "execution_count": null,
   "id": "0a21e8cb",
   "metadata": {},
   "outputs": [],
   "source": []
  }
 ],
 "metadata": {
  "kernelspec": {
   "display_name": "Python 3 (ipykernel)",
   "language": "python",
   "name": "python3"
  },
  "language_info": {
   "codemirror_mode": {
    "name": "ipython",
    "version": 3
   },
   "file_extension": ".py",
   "mimetype": "text/x-python",
   "name": "python",
   "nbconvert_exporter": "python",
   "pygments_lexer": "ipython3",
   "version": "3.10.2"
  }
 },
 "nbformat": 4,
 "nbformat_minor": 5
}
