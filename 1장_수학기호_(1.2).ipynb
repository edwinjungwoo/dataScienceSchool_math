{
 "cells": [
  {
   "cell_type": "markdown",
   "id": "d6921d1d",
   "metadata": {},
   "source": [
    "# 1.2 수열과 집합의 합과 곱"
   ]
  },
  {
   "cell_type": "markdown",
   "id": "00908afe",
   "metadata": {},
   "source": [
    "> https://datascienceschool.net/02%20mathematics/01.02%20%EC%88%98%EC%97%B4%EA%B3%BC%20%EC%A7%91%ED%95%A9%EC%9D%98%20%ED%95%A9%EA%B3%BC%20%EA%B3%B1.html"
   ]
  },
  {
   "cell_type": "code",
   "execution_count": null,
   "id": "f133a4f9",
   "metadata": {},
   "outputs": [],
   "source": []
  }
 ],
 "metadata": {
  "kernelspec": {
   "display_name": "Python 3 (ipykernel)",
   "language": "python",
   "name": "python3"
  },
  "language_info": {
   "codemirror_mode": {
    "name": "ipython",
    "version": 3
   },
   "file_extension": ".py",
   "mimetype": "text/x-python",
   "name": "python",
   "nbconvert_exporter": "python",
   "pygments_lexer": "ipython3",
   "version": "3.10.2"
  }
 },
 "nbformat": 4,
 "nbformat_minor": 5
}
