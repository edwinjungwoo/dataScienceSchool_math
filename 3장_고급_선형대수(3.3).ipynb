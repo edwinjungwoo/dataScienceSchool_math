{
 "cells": [
  {
   "cell_type": "markdown",
   "id": "18a166ba",
   "metadata": {},
   "source": [
    "# 고윳값 분해"
   ]
  },
  {
   "cell_type": "code",
   "execution_count": 3,
   "id": "d49dea3b",
   "metadata": {},
   "outputs": [
    {
     "name": "stdout",
     "output_type": "stream",
     "text": [
      "True\n",
      "True\n"
     ]
    }
   ],
   "source": [
    "import numpy as np\n",
    "\n",
    "B = np.array([[2, 3], [2, 1]])\n",
    "\n",
    "lambda1 = 4\n",
    "v1 =np.array([3/np.sqrt(13), 2 / np.sqrt(13)])\n",
    "\n",
    "lambda2 = -1\n",
    "v2 = np.array([-1/np.sqrt(2), 1 / np.sqrt(2)])\n",
    "\n",
    "print(np.array_equal(B @ v1, lambda1 * v1))\n",
    "print(np.array_equal(B @ v2, lambda2 * v2))"
   ]
  },
  {
   "cell_type": "code",
   "execution_count": 5,
   "id": "765753f0",
   "metadata": {},
   "outputs": [
    {
     "name": "stdout",
     "output_type": "stream",
     "text": [
      "[-0.99999998 -1.00000002]\n",
      "[[0.70710678 0.70710678]\n",
      " [0.70710678 0.70710678]]\n"
     ]
    }
   ],
   "source": [
    "A = np.array([[1, -2], [2, -3]])\n",
    "w1, V1 = np.linalg.eig(A)\n",
    "\n",
    "print(w1)\n",
    "print(V1)"
   ]
  },
  {
   "cell_type": "code",
   "execution_count": 6,
   "id": "a555280a",
   "metadata": {},
   "outputs": [
    {
     "name": "stdout",
     "output_type": "stream",
     "text": [
      "[ 4. -1.]\n",
      "[[ 0.83205029 -0.70710678]\n",
      " [ 0.5547002   0.70710678]]\n"
     ]
    }
   ],
   "source": [
    "B = np.array([[2, 3], [2, 1]])\n",
    "w2, V2 = np.linalg.eig(B)\n",
    "\n",
    "print(w2)\n",
    "print(V2)"
   ]
  },
  {
   "cell_type": "code",
   "execution_count": 7,
   "id": "ea507971",
   "metadata": {},
   "outputs": [
    {
     "name": "stdout",
     "output_type": "stream",
     "text": [
      "[0.+1.j 0.-1.j]\n",
      "[[0.70710678+0.j         0.70710678-0.j        ]\n",
      " [0.        -0.70710678j 0.        +0.70710678j]]\n"
     ]
    }
   ],
   "source": [
    "C = np.array([[0, -1], [1, 0]])\n",
    "w3, V3 = np.linalg.eig(C)\n",
    "\n",
    "print(w3)\n",
    "print(V3)"
   ]
  },
  {
   "cell_type": "code",
   "execution_count": 8,
   "id": "f5156fa7",
   "metadata": {},
   "outputs": [
    {
     "name": "stdout",
     "output_type": "stream",
     "text": [
      "[3. 1.]\n",
      "[[ 0.70710678 -0.70710678]\n",
      " [ 0.70710678  0.70710678]]\n"
     ]
    }
   ],
   "source": [
    "D = np.array([[2, 1], [1, 2]])\n",
    "w4, V4 = np.linalg.eig(D)\n",
    "print(w4)\n",
    "print(V4)"
   ]
  },
  {
   "cell_type": "code",
   "execution_count": 9,
   "id": "53595378",
   "metadata": {},
   "outputs": [
    {
     "name": "stdout",
     "output_type": "stream",
     "text": [
      "[ 4. -1.]\n",
      "[[ 0.83205029 -0.70710678]\n",
      " [ 0.5547002   0.70710678]]\n"
     ]
    }
   ],
   "source": [
    "E = np.array([[2, 3], [2, 1]])\n",
    "w5, V5 = np.linalg.eig(E)\n",
    "print(w5)\n",
    "print(V5)"
   ]
  },
  {
   "cell_type": "code",
   "execution_count": 10,
   "id": "6040b293",
   "metadata": {},
   "outputs": [
    {
     "data": {
      "text/plain": [
       "array([[ 0.83205029, -0.70710678],\n",
       "       [ 0.5547002 ,  0.70710678]])"
      ]
     },
     "execution_count": 10,
     "metadata": {},
     "output_type": "execute_result"
    }
   ],
   "source": [
    "V2"
   ]
  },
  {
   "cell_type": "code",
   "execution_count": 12,
   "id": "77205dfd",
   "metadata": {},
   "outputs": [
    {
     "data": {
      "text/plain": [
       "array([[ 0.72111026,  0.72111026],\n",
       "       [-0.56568542,  0.84852814]])"
      ]
     },
     "execution_count": 12,
     "metadata": {},
     "output_type": "execute_result"
    }
   ],
   "source": [
    "V2_inv = np.linalg.inv(V2)\n",
    "V2_inv"
   ]
  },
  {
   "cell_type": "code",
   "execution_count": 13,
   "id": "ee586041",
   "metadata": {},
   "outputs": [
    {
     "data": {
      "text/plain": [
       "array([[2., 3.],\n",
       "       [2., 1.]])"
      ]
     },
     "execution_count": 13,
     "metadata": {},
     "output_type": "execute_result"
    }
   ],
   "source": [
    "V2 @ np.diag(w2) @ V2_inv"
   ]
  },
  {
   "cell_type": "code",
   "execution_count": 14,
   "id": "a9bfb1bc",
   "metadata": {},
   "outputs": [
    {
     "name": "stdout",
     "output_type": "stream",
     "text": [
      "[[ 0.83205029 -0.70710678]\n",
      " [ 0.5547002   0.70710678]]\n",
      "[[ 4.  0.]\n",
      " [ 0. -1.]]\n",
      "[[ 0.72111026  0.72111026]\n",
      " [-0.56568542  0.84852814]]\n",
      "[[2. 3.]\n",
      " [2. 1.]]\n"
     ]
    }
   ],
   "source": [
    "w, V = np.linalg.eig(np.array([[2, 3], [2, 1]]))\n",
    "Vinv = np.linalg.inv(V)\n",
    "\n",
    "print(V)\n",
    "print(np.diag(w))\n",
    "print(Vinv)\n",
    "print(V @ np.diag(w) @ Vinv)"
   ]
  },
  {
   "cell_type": "code",
   "execution_count": 15,
   "id": "c6d1ecbd",
   "metadata": {},
   "outputs": [
    {
     "name": "stdout",
     "output_type": "stream",
     "text": [
      "[[-0.25  0.75]\n",
      " [ 0.5  -0.5 ]]\n"
     ]
    }
   ],
   "source": [
    "A = np.array([[2, 3], [2, 1]])\n",
    "w, V = np.linalg.eig(A)\n",
    "Vinv = np.linalg.inv(V)\n",
    "Ainv = V @ np.diag(1 / w) @ Vinv\n",
    "print(Ainv)"
   ]
  },
  {
   "cell_type": "code",
   "execution_count": 16,
   "id": "85c10dcd",
   "metadata": {},
   "outputs": [
    {
     "data": {
      "text/plain": [
       "array([[-0.25,  0.75],\n",
       "       [ 0.5 , -0.5 ]])"
      ]
     },
     "execution_count": 16,
     "metadata": {},
     "output_type": "execute_result"
    }
   ],
   "source": [
    "np.linalg.inv(A)"
   ]
  },
  {
   "cell_type": "code",
   "execution_count": 17,
   "id": "6e25f709",
   "metadata": {},
   "outputs": [],
   "source": [
    "A = np.array([[60., 30., 20.],\n",
    "              [30., 20., 15.],\n",
    "              [20., 15., 12.]])\n",
    "\n",
    "w, V = np.linalg.eig(A)\n",
    "w1, w2, w3 = w\n",
    "v1 = V[:, 0:1]\n",
    "v2 = V[:, 1:2]\n",
    "v3 = V[:, 2:3]\n",
    "A1 = v1 @ v1.T\n",
    "A2 = v2 @ v2.T\n",
    "A3 = v3 @ v3.T"
   ]
  },
  {
   "cell_type": "code",
   "execution_count": 18,
   "id": "9123ae0d",
   "metadata": {},
   "outputs": [
    {
     "data": {
      "text/plain": [
       "array([84.49913563,  7.33962395,  0.16124042])"
      ]
     },
     "execution_count": 18,
     "metadata": {},
     "output_type": "execute_result"
    }
   ],
   "source": [
    "w"
   ]
  },
  {
   "cell_type": "code",
   "execution_count": 19,
   "id": "dc538a1c",
   "metadata": {},
   "outputs": [
    {
     "data": {
      "text/plain": [
       "84.49913562741926"
      ]
     },
     "execution_count": 19,
     "metadata": {},
     "output_type": "execute_result"
    }
   ],
   "source": [
    "w1"
   ]
  },
  {
   "cell_type": "code",
   "execution_count": 20,
   "id": "4cc53857",
   "metadata": {},
   "outputs": [
    {
     "data": {
      "text/plain": [
       "array([[0.68400331, 0.38032811, 0.26738233],\n",
       "       [0.38032811, 0.21147481, 0.14867328],\n",
       "       [0.26738233, 0.14867328, 0.10452188]])"
      ]
     },
     "execution_count": 20,
     "metadata": {},
     "output_type": "execute_result"
    }
   ],
   "source": [
    "A1"
   ]
  },
  {
   "cell_type": "code",
   "execution_count": 21,
   "id": "817c0ad4",
   "metadata": {},
   "outputs": [
    {
     "data": {
      "text/plain": [
       "array([[ 0.82704493,  0.54744843,  0.12765933],\n",
       "       [ 0.4598639 , -0.52829024, -0.71374689],\n",
       "       [ 0.32329844, -0.64900666,  0.68867153]])"
      ]
     },
     "execution_count": 21,
     "metadata": {},
     "output_type": "execute_result"
    }
   ],
   "source": [
    "V"
   ]
  },
  {
   "cell_type": "code",
   "execution_count": 22,
   "id": "78d9c1a9",
   "metadata": {},
   "outputs": [
    {
     "data": {
      "text/plain": [
       "array([[57.79768857, 32.13739648, 22.59357583],\n",
       "       [32.13739648, 17.8694387 , 12.56276371],\n",
       "       [22.59357583, 12.56276371,  8.83200836]])"
      ]
     },
     "execution_count": 22,
     "metadata": {},
     "output_type": "execute_result"
    }
   ],
   "source": [
    "w1 * A1"
   ]
  },
  {
   "cell_type": "code",
   "execution_count": 23,
   "id": "c7f98b99",
   "metadata": {},
   "outputs": [
    {
     "data": {
      "text/plain": [
       "array([[ 2.19968372, -2.12270483, -2.60775134],\n",
       "       [-2.12270483,  2.04841985,  2.51649195],\n",
       "       [-2.60775134,  2.51649195,  3.09152039]])"
      ]
     },
     "execution_count": 23,
     "metadata": {},
     "output_type": "execute_result"
    }
   ],
   "source": [
    "w2 * A2"
   ]
  },
  {
   "cell_type": "code",
   "execution_count": 24,
   "id": "d748c89f",
   "metadata": {},
   "outputs": [
    {
     "data": {
      "text/plain": [
       "array([[ 0.00262772, -0.01469165,  0.01417551],\n",
       "       [-0.01469165,  0.08214145, -0.07925566],\n",
       "       [ 0.01417551, -0.07925566,  0.07647125]])"
      ]
     },
     "execution_count": 24,
     "metadata": {},
     "output_type": "execute_result"
    }
   ],
   "source": [
    "w3 * A3"
   ]
  },
  {
   "cell_type": "code",
   "execution_count": 25,
   "id": "2b1d0897",
   "metadata": {},
   "outputs": [
    {
     "data": {
      "text/plain": [
       "array([[60., 30., 20.],\n",
       "       [30., 20., 15.],\n",
       "       [20., 15., 12.]])"
      ]
     },
     "execution_count": 25,
     "metadata": {},
     "output_type": "execute_result"
    }
   ],
   "source": [
    "w1 * A1 + w2 * A2 + w3 * A3"
   ]
  },
  {
   "cell_type": "code",
   "execution_count": 26,
   "id": "c10138fa",
   "metadata": {},
   "outputs": [
    {
     "data": {
      "text/plain": [
       "array([[ 0.15, -0.6 ,  0.5 ],\n",
       "       [-0.6 ,  3.2 , -3.  ],\n",
       "       [ 0.5 , -3.  ,  3.  ]])"
      ]
     },
     "execution_count": 26,
     "metadata": {},
     "output_type": "execute_result"
    }
   ],
   "source": [
    "np.linalg.inv(A)"
   ]
  },
  {
   "cell_type": "code",
   "execution_count": 27,
   "id": "632f2142",
   "metadata": {},
   "outputs": [
    {
     "data": {
      "text/plain": [
       "array([[0.0080948 , 0.00450097, 0.00316432],\n",
       "       [0.00450097, 0.00250269, 0.00175947],\n",
       "       [0.00316432, 0.00175947, 0.00123696]])"
      ]
     },
     "execution_count": 27,
     "metadata": {},
     "output_type": "execute_result"
    }
   ],
   "source": [
    "1 / w1 * A1"
   ]
  },
  {
   "cell_type": "code",
   "execution_count": 28,
   "id": "b13f1f39",
   "metadata": {},
   "outputs": [
    {
     "data": {
      "text/plain": [
       "array([[ 0.04083313, -0.03940415, -0.04840816],\n",
       "       [-0.03940415,  0.03802519,  0.04671409],\n",
       "       [-0.04840816,  0.04671409,  0.05738845]])"
      ]
     },
     "execution_count": 28,
     "metadata": {},
     "output_type": "execute_result"
    }
   ],
   "source": [
    "1 / w2 * A2"
   ]
  },
  {
   "cell_type": "code",
   "execution_count": 29,
   "id": "bddd40f0",
   "metadata": {},
   "outputs": [
    {
     "data": {
      "text/plain": [
       "array([[ 0.10107208, -0.56509682,  0.54524384],\n",
       "       [-0.56509682,  3.15947213, -3.04847356],\n",
       "       [ 0.54524384, -3.04847356,  2.94137459]])"
      ]
     },
     "execution_count": 29,
     "metadata": {},
     "output_type": "execute_result"
    }
   ],
   "source": [
    "1 / w3 * A3"
   ]
  },
  {
   "cell_type": "code",
   "execution_count": 30,
   "id": "fbfe3b1b",
   "metadata": {},
   "outputs": [
    {
     "data": {
      "text/plain": [
       "array([[ 0.15, -0.6 ,  0.5 ],\n",
       "       [-0.6 ,  3.2 , -3.  ],\n",
       "       [ 0.5 , -3.  ,  3.  ]])"
      ]
     },
     "execution_count": 30,
     "metadata": {},
     "output_type": "execute_result"
    }
   ],
   "source": [
    "1 / w1 * A1 + 1 / w2 * A2 + 1 / w3 * A3"
   ]
  },
  {
   "cell_type": "code",
   "execution_count": 31,
   "id": "38e3a915",
   "metadata": {},
   "outputs": [],
   "source": [
    "from sklearn.datasets import load_iris\n",
    "iris = load_iris()\n",
    "X = iris.data"
   ]
  },
  {
   "cell_type": "code",
   "execution_count": 32,
   "id": "0f238fef",
   "metadata": {},
   "outputs": [
    {
     "data": {
      "text/plain": [
       "array([[5.1, 3.5, 1.4, 0.2],\n",
       "       [4.9, 3. , 1.4, 0.2],\n",
       "       [4.7, 3.2, 1.3, 0.2],\n",
       "       [4.6, 3.1, 1.5, 0.2],\n",
       "       [5. , 3.6, 1.4, 0.2]])"
      ]
     },
     "execution_count": 32,
     "metadata": {},
     "output_type": "execute_result"
    }
   ],
   "source": [
    "X[:5]"
   ]
  },
  {
   "cell_type": "code",
   "execution_count": 34,
   "id": "9829088e",
   "metadata": {},
   "outputs": [
    {
     "data": {
      "text/plain": [
       "array([[5223.85, 2673.43, 3483.76, 1128.14],\n",
       "       [2673.43, 1430.4 , 1674.3 ,  531.89],\n",
       "       [3483.76, 1674.3 , 2582.71,  869.11],\n",
       "       [1128.14,  531.89,  869.11,  302.33]])"
      ]
     },
     "execution_count": 34,
     "metadata": {},
     "output_type": "execute_result"
    }
   ],
   "source": [
    "COV = X.T @ X\n",
    "COV"
   ]
  },
  {
   "cell_type": "code",
   "execution_count": 35,
   "id": "afc56b62",
   "metadata": {},
   "outputs": [
    {
     "data": {
      "text/plain": [
       "array([9.20830507e+03, 3.15454317e+02, 1.19780429e+01, 3.55257020e+00])"
      ]
     },
     "execution_count": 35,
     "metadata": {},
     "output_type": "execute_result"
    }
   ],
   "source": [
    "w, V = np.linalg.eig(COV)\n",
    "w"
   ]
  },
  {
   "cell_type": "markdown",
   "id": "19aeba59",
   "metadata": {},
   "source": [
    "요약: 고유분해의 성질\n",
    "\n",
    "\n",
    "N차원 정방행렬 A에 대해\n",
    "\n",
    "행렬 A는 N개의 고윳값-고유벡터를 가진다(복소수인 경우와 중복인 경우를 포함).\n",
    "\n",
    "행렬의 대각합은 모든 고윳값의 합과 같다.\n",
    "\n",
    "행렬의 행렬식은 모든 고윳값의 곱과 같다.\n",
    "\n",
    "행렬 A가 대칭행렬이면 N개의 실수 고윳값을 가지며 고유벡터들이 서로 **직교(orthogonal)**이다.\n",
    "\n",
    "행렬 A가 대칭행렬이고 고윳값이 모두 양수이면 양의 정부호(positive-definite)이고 역행렬이 존재한다. 역도 성립한다.\n",
    "\n",
    "행렬 A가 어떤 행렬 X의 분산행렬 XTX이면 0 또는 양의 고윳값을 가진다.\n",
    "\n",
    "행렬 X∈RN×M(N≥M)가 풀랭크이면 분산행렬 XTX은 역행렬이 존재한다.\n",
    "\n"
   ]
  },
  {
   "cell_type": "code",
   "execution_count": null,
   "id": "d20c9b69",
   "metadata": {},
   "outputs": [],
   "source": []
  }
 ],
 "metadata": {
  "kernelspec": {
   "display_name": "Python 3 (ipykernel)",
   "language": "python",
   "name": "python3"
  },
  "language_info": {
   "codemirror_mode": {
    "name": "ipython",
    "version": 3
   },
   "file_extension": ".py",
   "mimetype": "text/x-python",
   "name": "python",
   "nbconvert_exporter": "python",
   "pygments_lexer": "ipython3",
   "version": "3.10.2"
  }
 },
 "nbformat": 4,
 "nbformat_minor": 5
}
