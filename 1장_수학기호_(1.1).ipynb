{
 "cells": [
  {
   "cell_type": "markdown",
   "id": "29e9cebb",
   "metadata": {},
   "source": [
    "# 1.1 그리스 문자"
   ]
  },
  {
   "cell_type": "markdown",
   "id": "02fb315b",
   "metadata": {},
   "source": [
    "마크다운 셀 안에서 $(달러) 기호를 이용하면 수식을 표현할 수 있다. 수식에서 그리스 문자를 표시하려면 그리스 문자의 영어 표기법앞에 백슬레시(\\) 기호를 붙인다. 예를 들어 알파는 \\alpha, 베타는 \\beta라고 쓴다."
   ]
  },
  {
   "cell_type": "markdown",
   "id": "d65acbc9",
   "metadata": {},
   "source": [
    "$ \\alpha $"
   ]
  },
  {
   "cell_type": "markdown",
   "id": "48f4ad26",
   "metadata": {},
   "source": [
    "$사이의 수식은 문장내의 인라인 수식을 쓸 때 사용하고 $$사이의 수식은 디스플레이 수식을 쓸 때 사용한다."
   ]
  },
  {
   "cell_type": "markdown",
   "id": "a0075ee3",
   "metadata": {},
   "source": [
    "$$ \\alpha = \\beta $$"
   ]
  },
  {
   "cell_type": "markdown",
   "id": "09c997fb",
   "metadata": {},
   "source": [
    "$\\alpha, \\beta , \\gamma, \\delta, \\epsilon, \\zeta, \\eta, \\theta, \\kappa, \\lambda, \\mu, \\mu, \\xi, \\pi, \\rho, \\sigma, \\tau, \\phi, \\chi, \\psi, \\omega$\n"
   ]
  },
  {
   "cell_type": "code",
   "execution_count": null,
   "id": "0e8f6fba",
   "metadata": {},
   "outputs": [],
   "source": []
  }
 ],
 "metadata": {
  "kernelspec": {
   "display_name": "Python 3 (ipykernel)",
   "language": "python",
   "name": "python3"
  },
  "language_info": {
   "codemirror_mode": {
    "name": "ipython",
    "version": 3
   },
   "file_extension": ".py",
   "mimetype": "text/x-python",
   "name": "python",
   "nbconvert_exporter": "python",
   "pygments_lexer": "ipython3",
   "version": "3.10.2"
  }
 },
 "nbformat": 4,
 "nbformat_minor": 5
}
