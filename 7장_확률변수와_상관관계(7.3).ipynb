{
 "cells": [
  {
   "cell_type": "markdown",
   "id": "75bef0a8",
   "metadata": {},
   "source": [
    "# 분산과 표준편차"
   ]
  },
  {
   "cell_type": "markdown",
   "id": "21e08705",
   "metadata": {},
   "source": [
    "분산은 확률분포함수에서 확률이 모여있는지 퍼져있는지를 나타내는 값이다. 기댓값이 확률변수에서 어떤 값이 나올지를 예측한 것이라면 분산은 그 예측의 정확도 혹은 신뢰성을 표현한 것이라고 볼 수 있다."
   ]
  },
  {
   "cell_type": "code",
   "execution_count": 1,
   "id": "591e376a",
   "metadata": {},
   "outputs": [],
   "source": [
    "import numpy as np"
   ]
  },
  {
   "cell_type": "code",
   "execution_count": 8,
   "id": "6c18fb0f",
   "metadata": {},
   "outputs": [],
   "source": [
    "# 7.3.2\n",
    "np.random.seed(0)\n",
    "x1 = np.random.normal(size=100)\n",
    "x2 = np.random.normal(size=100)"
   ]
  },
  {
   "cell_type": "code",
   "execution_count": 9,
   "id": "3722172f",
   "metadata": {},
   "outputs": [],
   "source": [
    "x = x1 + x2"
   ]
  },
  {
   "cell_type": "code",
   "execution_count": 10,
   "id": "02da8847",
   "metadata": {},
   "outputs": [
    {
     "data": {
      "text/plain": [
       "(1.0158266192149312, 1.0705357955882409, 2.3193898587605104)"
      ]
     },
     "execution_count": 10,
     "metadata": {},
     "output_type": "execute_result"
    }
   ],
   "source": [
    "np.var(x1), np.var(x2), np.var(x)"
   ]
  },
  {
   "cell_type": "code",
   "execution_count": 11,
   "id": "c3e56dbd",
   "metadata": {},
   "outputs": [
    {
     "data": {
      "text/plain": [
       "2.086362414803172"
      ]
     },
     "execution_count": 11,
     "metadata": {},
     "output_type": "execute_result"
    }
   ],
   "source": [
    "np.var(x1) + np.var(x2)"
   ]
  },
  {
   "cell_type": "code",
   "execution_count": 12,
   "id": "75651058",
   "metadata": {},
   "outputs": [
    {
     "data": {
      "text/plain": [
       "1.0158266192149312"
      ]
     },
     "execution_count": 12,
     "metadata": {},
     "output_type": "execute_result"
    }
   ],
   "source": [
    "# 7.3.3\n",
    "np.random.seed(0)\n",
    "x1 = np.random.normal(size=100)\n",
    "np.var(x1)"
   ]
  },
  {
   "cell_type": "code",
   "execution_count": 26,
   "id": "71215db6",
   "metadata": {},
   "outputs": [
    {
     "data": {
      "text/plain": [
       "array([[ 0.23749259, -0.53275517, -0.47117984, ...,  1.61149849,\n",
       "        -0.18407224, -0.18206111],\n",
       "       [-0.35379518,  0.10393111, -0.44898053, ...,  2.17299592,\n",
       "        -0.06873078, -0.2313193 ],\n",
       "       [-0.47234618, -0.39868785,  0.78228061, ..., -0.17342086,\n",
       "         0.01131026, -0.92546251],\n",
       "       ...,\n",
       "       [-0.62280102,  1.24047706,  0.17044629, ...,  0.51687218,\n",
       "        -0.03292069,  1.29811143],\n",
       "       [-0.20211703, -0.833231  ,  1.73360025, ..., -1.3630435 ,\n",
       "         0.8078343 ,  0.66066403],\n",
       "       [ 0.77885005,  1.50732025,  0.37957621, ...,  0.77025427,\n",
       "        -0.08612658, -0.85766795]])"
      ]
     },
     "execution_count": 26,
     "metadata": {},
     "output_type": "execute_result"
    }
   ],
   "source": [
    "x1 = np.random.normal(size=(100, 50))\n",
    "x1"
   ]
  },
  {
   "cell_type": "code",
   "execution_count": 27,
   "id": "22e82383",
   "metadata": {},
   "outputs": [
    {
     "data": {
      "text/plain": [
       "array([-0.2353135 , -0.05599522,  0.0712391 ,  0.04619033, -0.13905211,\n",
       "        0.00118925, -0.06421873, -0.19945867,  0.08140008,  0.10509458,\n",
       "       -0.06527737,  0.11262284, -0.08799696, -0.19444479, -0.21524863,\n",
       "       -0.15035825,  0.08045668, -0.10386778, -0.04933091,  0.12803312,\n",
       "       -0.02523746, -0.10803276, -0.08869434, -0.10901897, -0.07816698,\n",
       "        0.08531069,  0.09316742,  0.18247643,  0.07934463,  0.12241097,\n",
       "       -0.07707646,  0.13778602, -0.17530566, -0.06755464, -0.13271392,\n",
       "       -0.2510841 , -0.11506376, -0.07801525,  0.056946  , -0.00429035,\n",
       "        0.022452  ,  0.09864502,  0.20261427,  0.04127433,  0.10242286,\n",
       "        0.14226452,  0.10421939,  0.00420958, -0.09134226, -0.01371507])"
      ]
     },
     "execution_count": 27,
     "metadata": {},
     "output_type": "execute_result"
    }
   ],
   "source": [
    "x_means = x.mean(axis=0)\n",
    "x_means"
   ]
  },
  {
   "cell_type": "code",
   "execution_count": 28,
   "id": "83b6590f",
   "metadata": {},
   "outputs": [
    {
     "data": {
      "text/plain": [
       "0.1161187100557133"
      ]
     },
     "execution_count": 28,
     "metadata": {},
     "output_type": "execute_result"
    }
   ],
   "source": [
    "std_xbar = x_means.std()\n",
    "std_xbar"
   ]
  },
  {
   "cell_type": "code",
   "execution_count": 33,
   "id": "98ff2f52",
   "metadata": {},
   "outputs": [
    {
     "data": {
      "text/plain": [
       "1.0815644929008246"
      ]
     },
     "execution_count": 33,
     "metadata": {},
     "output_type": "execute_result"
    }
   ],
   "source": [
    "std_x1 = x1[:, 0].std()\n",
    "std_x1"
   ]
  },
  {
   "cell_type": "code",
   "execution_count": 34,
   "id": "33411bd2",
   "metadata": {},
   "outputs": [
    {
     "data": {
      "text/plain": [
       "9.314299929631446"
      ]
     },
     "execution_count": 34,
     "metadata": {},
     "output_type": "execute_result"
    }
   ],
   "source": [
    "std_x1 / std_xbar"
   ]
  },
  {
   "cell_type": "code",
   "execution_count": 35,
   "id": "954ce172",
   "metadata": {},
   "outputs": [],
   "source": [
    "np.random.seed(15)\n",
    "N = 7\n",
    "data = np.sort(np.random.normal(size=(N)))[::-1]"
   ]
  },
  {
   "cell_type": "code",
   "execution_count": 41,
   "id": "2b144428",
   "metadata": {},
   "outputs": [],
   "source": [
    "mean = data.mean()"
   ]
  },
  {
   "cell_type": "code",
   "execution_count": 42,
   "id": "c10c1baa",
   "metadata": {},
   "outputs": [
    {
     "data": {
      "image/png": "[encoded data removed]",
      "text/plain": [
       "<Figure size 720x144 with 1 Axes>"
      ]
     },
     "metadata": {
      "needs_background": "light"
     },
     "output_type": "display_data"
    }
   ],
   "source": [
    "import matplotlib.pyplot as plt\n",
    "import seaborn as sns\n",
    "plt.figure(figsize=(10, 2))\n",
    "sns.rugplot(data, height=0.5, linewidth=4)\n",
    "x = np.linspace(-3, 3, 100)\n",
    "plt.axvline(x=0, ls=\":\", c=\"r\", linewidth=2, label=\"real E\")\n",
    "plt.axvline(x=mean, ls=\"--\", c=\"b\", linewidth=2, label=\"sample mean\")\n",
    "plt.legend()\n",
    "plt.xlim(-2, 2)\n",
    "plt.show()"
   ]
  },
  {
   "cell_type": "code",
   "execution_count": 43,
   "id": "b75c0760",
   "metadata": {},
   "outputs": [
    {
     "data": {
      "text/plain": [
       "array([ 0.80423333,  0.70051752,  0.30904009,  0.15262015, -0.03684105,\n",
       "       -0.63091342, -1.29865663])"
      ]
     },
     "execution_count": 43,
     "metadata": {},
     "output_type": "execute_result"
    }
   ],
   "source": [
    "distance_from_sample_mean = data - mean\n",
    "distance_from_sample_mean"
   ]
  },
  {
   "cell_type": "code",
   "execution_count": 44,
   "id": "9eb74509",
   "metadata": {},
   "outputs": [
    {
     "data": {
      "text/plain": [
       "0.4774618257836171"
      ]
     },
     "execution_count": 44,
     "metadata": {},
     "output_type": "execute_result"
    }
   ],
   "source": [
    "sample_variance = (distance_from_sample_mean ** 2).mean()\n",
    "sample_variance"
   ]
  },
  {
   "cell_type": "code",
   "execution_count": 45,
   "id": "6740c11d",
   "metadata": {},
   "outputs": [
    {
     "data": {
      "text/plain": [
       "0.5570387967475533"
      ]
     },
     "execution_count": 45,
     "metadata": {},
     "output_type": "execute_result"
    }
   ],
   "source": [
    "sample_variance * N / (N - 1)"
   ]
  },
  {
   "cell_type": "markdown",
   "id": "fcfc2a20",
   "metadata": {},
   "source": [
    "주의할 점은 표본분산의 기댓값이 원래의 분산값보다 작은 값이 나오는 경향이 있다는 것이지 항상 원래의 분산값보다 작게 나온다는 뜻은 아니다."
   ]
  },
  {
   "cell_type": "code",
   "execution_count": null,
   "id": "00d2a7ef",
   "metadata": {},
   "outputs": [],
   "source": []
  }
 ],
 "metadata": {
  "kernelspec": {
   "display_name": "Python 3 (ipykernel)",
   "language": "python",
   "name": "python3"
  },
  "language_info": {
   "codemirror_mode": {
    "name": "ipython",
    "version": 3
   },
   "file_extension": ".py",
   "mimetype": "text/x-python",
   "name": "python",
   "nbconvert_exporter": "python",
   "pygments_lexer": "ipython3",
   "version": "3.10.2"
  }
 },
 "nbformat": 4,
 "nbformat_minor": 5
}
